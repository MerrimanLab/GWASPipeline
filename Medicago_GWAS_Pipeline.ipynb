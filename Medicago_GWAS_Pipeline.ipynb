{
 "cells": [
  {
   "cell_type": "markdown",
   "metadata": {},
   "source": [
    "# Medicago GWAS Pipeline\n",
    "\n",
    "Given a set of trait files (cleaned and normlised), perform a standard GWAS + population structure analysis. For more background, see Medicago_FirstGWAS_Test.\n",
    "\n",
    "### Trait Preparation  \n",
    "\n",
    "We assume that the trait files are saved in a folder named \"Traits\". See examples.\n",
    "\n",
    "Analyses will be performed in PLINK thus, we assume that there is a trait (phenotype) file that conforms to plink's specifications. Specifically: {FID, IID, trait_one}. Each column should be TAB or SPACE separated. For more info:  https://www.cog-genomics.org/plink2/input#pheno\n",
    "\n",
    "Plink allows you to create a master trait file containing all the traits that you want to test. However, we haven't tested this yet and the pipeline has not been designed to handle this yet. We recommend that you create a separate trait file for each trait.\n",
    "\n",
    "### Genotypes\n",
    "\n",
    "We assume that the Genotypes are either VCF or BCF files, saved in a folder named \"Genotypes\". Genotypes may be split into separate files per chromosome, or one large file.\n",
    "\n",
    "The default QC parameters are as follows:  \n",
    "\n",
    "  - reject SNPs with call frequency < 90%  \n",
    "  - reject SNPS with minor allele frequency (MAF) < 0.03  \n",
    "  \n",
    "These parameters can be changed in the Setup section below. This pipeline will handle the rest for you.\n",
    "\n",
    "### GWAS  \n",
    "\n",
    "This pipeline will:  \n",
    "\n",
    "  - plot the trait data (saved in Results/Visualisations)  \n",
    "  - determine the population structure  \n",
    "  - perform a standard GWAS adjusted for population structure, using plink  \n",
    "  - the results will be saved in Results/  \n",
    "  - a manhattan plot for each trait will be saved in Results/Visualisations  \n",
    "  \n",
    "### PLINK Setup  \n",
    "\n",
    "You will need PLINK to run this pipeline. To get PLINK up and running perform the following:  \n",
    "\n",
    "  1. Download the appropriate version of plink from here: https://www.cog-genomics.org/plink2  \n",
    "  2. Unpack the zipped plink folder somewhere convenient  \n",
    "  3. Make sure you set the plink_directory paramter in the Setup section below  \n",
    "  \n",
    "\n",
    "### Running the pipeline  \n",
    "\n",
    "Review the Setup section below:  \n",
    "\n",
    "  1. Change the working directory as appropriate (to the directory where you have the PLINK, Genotypes and Traits folders)  \n",
    "  2. Review the Genotype QC parameters, and change as appropriate (defaults are usually sufficient)  \n",
    "  3. Run each cell as required  \n",
    "  3. Have fun :)  \n",
    "  \n",
    "---------------------------------\n",
    "\n",
    "## Setup  \n",
    "\n",
    "Change the parameters below as required."
   ]
  },
  {
   "cell_type": "code",
   "execution_count": 1,
   "metadata": {
    "collapsed": false
   },
   "outputs": [],
   "source": [
    "# set the home & plink directory (please no spaces or funny characters)\n",
    "home_ <- \"/Data/Analyses/Pipeline\"\n",
    "plink_ <- \"/Data/Analyses/Pipeline/PLINK/plink\"\n",
    "\n",
    "# Genotype QC settings\n",
    "parameters <- list(\n",
    "    call_rate = 0.10,                       # rejects SNPs with more than this number of missing calls\n",
    "    maf = 0.03,                             # rejects SNPs with a MAF < this threshold\n",
    "    pop_struct_dimensions = 5               # the number of principal components for population structure\n",
    ")"
   ]
  },
  {
   "cell_type": "markdown",
   "metadata": {},
   "source": [
    "## Housekeeping  \n",
    "\n",
    "Run the following cell, it will install required pacakges, test for plink and setup the working directory."
   ]
  },
  {
   "cell_type": "code",
   "execution_count": 2,
   "metadata": {
    "collapsed": false
   },
   "outputs": [
    {
     "name": "stderr",
     "output_type": "stream",
     "text": [
      "Loading required package: data.table\n",
      "Loading required package: gridExtra\n",
      "Loading required package: ggplot2\n",
      "Loading required package: qqman\n",
      "\n",
      "For example usage please run: vignette('qqman')\n",
      "\n",
      "Citation appreciated but not required:\n",
      "Turner, S.D. qqman: an R package for visualizing GWAS results using Q-Q and manhattan plots. biorXiv DOI: 10.1101/005165 (2014).\n",
      "\n"
     ]
    },
    {
     "data": {
      "text/html": [
       "'Ready to proceed...'"
      ],
      "text/latex": [
       "'Ready to proceed...'"
      ],
      "text/markdown": [
       "'Ready to proceed...'"
      ],
      "text/plain": [
       "[1] \"Ready to proceed...\""
      ]
     },
     "execution_count": 2,
     "metadata": {},
     "output_type": "execute_result"
    }
   ],
   "source": [
    "# install & load packages\n",
    "options(repos = \"http://cran.uk.r-project.org\")\n",
    "if (!require(data.table)) {    \n",
    "    install.packages(\"data.table\")\n",
    "}\n",
    "if (!require(gridExtra)) {\n",
    "    install.packages(\"gridExtra\")\n",
    "}\n",
    "if (!require(ggplot2)) {\n",
    "    install.packages(\"ggplot2\")\n",
    "}\n",
    "if (!require(qqman)) {\n",
    "    install.packages(\"qqman\")\n",
    "}\n",
    "\n",
    "library(ggplot2)\n",
    "library(data.table)\n",
    "library(gridExtra)\n",
    "library(qqman)\n",
    "\n",
    "\n",
    "# setup the working directory\n",
    "setwd(home_)\n",
    "\n",
    "if (!dir.exists(\"./Results\")) {\n",
    "    dir.create(file.path(home_, \"Results\"))\n",
    "}\n",
    "if (!dir.exists(\"./Results/Visualisations\")) {\n",
    "    dir.create(file.path(home_, \"Results/Visualisations\"))\n",
    "}\n",
    "if (!dir.exists(\"./ScratchSpace\")) {\n",
    "    dir.create(file.path(home_, \"ScratchSpace\"))\n",
    "}\n",
    "\n",
    "\n",
    "# test plink installation\n",
    "if (!capture.output({ cat(system(sprintf(\"%s --version\", plink_))) }) == 0) {\n",
    "    \n",
    "    cat(sprintf(\"\n",
    "        --------------------------------------------------------------------------------\n",
    "\n",
    "                                      !!!! WARNING !!!! \n",
    "        \n",
    "        PLINK not found. Please review the plink_ directory in the Setup section.\n",
    "\n",
    "        --------------------------------------------------------------------------------\n",
    "    \", plink_))\n",
    "    \n",
    "}\n",
    "\n",
    "# extract trait files and genotype files  \n",
    "trait_files <- list.files(\"./Traits\")\n",
    "genotype_files <- list.files(\"./Genotypes\")\n",
    "\n",
    "if (any(c(length(trait_files) < 1, length(genotype_files) < 1))) {\n",
    "    \n",
    "    cat(sprintf(\"\n",
    "        --------------------------------------------------------------------------------\n",
    "\n",
    "                                      !!!! WARNING !!!! \n",
    "        \n",
    "        Something has gone wrong with the trait and/or the genotype files. Please review.\n",
    "\n",
    "        There are %s trait files and %s genotype files. \n",
    "\n",
    "        --------------------------------------------------------------------------------\n",
    "    \", length(trait_files), length(genotype_files)))\n",
    "    \n",
    "} else {\n",
    "    \"Ready to proceed...\"\n",
    "}"
   ]
  },
  {
   "cell_type": "markdown",
   "metadata": {},
   "source": [
    "## Trait Visualisation  \n",
    "\n",
    "If you would like to visualise the traits, please run the following cell. Visualisations will be saved in Results/Visualisations.\n",
    "\n",
    "NOTE: this is not required to run the GWAS, so you may skip it if you like."
   ]
  },
  {
   "cell_type": "code",
   "execution_count": 53,
   "metadata": {
    "collapsed": false
   },
   "outputs": [
    {
     "name": "stdout",
     "output_type": "stream",
     "text": [
      "[1] \"FTa1\"\n",
      "Classes ‘data.table’ and 'data.frame':\t106 obs. of  3 variables:\n",
      " $ FID : int  0 0 0 0 0 0 0 0 0 0 ...\n",
      " $ IID : chr  \"HM001\" \"HM002\" \"HM003\" \"HM004\" ...\n",
      " $ FTa1: num  0.0131 0.0001 0.0001 0.0321 0.0101 0.00883 0.00111 0.0434 0.0001 0.0043 ...\n",
      " - attr(*, \".internal.selfref\")=<externalptr> \n",
      "NULL\n"
     ]
    },
    {
     "name": "stderr",
     "output_type": "stream",
     "text": [
      "`stat_bin()` using `bins = 30`. Pick better value with `binwidth`.\n"
     ]
    },
    {
     "name": "stdout",
     "output_type": "stream",
     "text": [
      "[1] \"FTa2\"\n",
      "Classes ‘data.table’ and 'data.frame':\t90 obs. of  3 variables:\n",
      " $ FID : int  0 0 0 0 0 0 0 0 0 0 ...\n",
      " $ IID : chr  \"HM003\" \"HM008\" \"HM009\" \"HM011\" ...\n",
      " $ FTa2: num  -5.83 -6.91 -5.25 -6.91 -3.5 ...\n",
      " - attr(*, \".internal.selfref\")=<externalptr> \n",
      "NULL\n"
     ]
    },
    {
     "name": "stderr",
     "output_type": "stream",
     "text": [
      "`stat_bin()` using `bins = 30`. Pick better value with `binwidth`.\n"
     ]
    },
    {
     "name": "stdout",
     "output_type": "stream",
     "text": [
      "[1] \"FIRSTFLWR\"\n",
      "Classes ‘data.table’ and 'data.frame':\t67 obs. of  3 variables:\n",
      " $ FID      : int  0 0 0 0 0 0 0 0 0 0 ...\n",
      " $ IID      : chr  \"HM002\" \"HM010\" \"HM012\" \"HM016\" ...\n",
      " $ FIRSTFLWR: int  103 108 108 115 78 98 71 111 120 111 ...\n",
      " - attr(*, \".internal.selfref\")=<externalptr> \n",
      "NULL\n"
     ]
    },
    {
     "name": "stderr",
     "output_type": "stream",
     "text": [
      "`stat_bin()` using `bins = 30`. Pick better value with `binwidth`.\n"
     ]
    },
    {
     "name": "stdout",
     "output_type": "stream",
     "text": [
      "[1] \"StantonFloweringDate\"\n",
      "Classes ‘data.table’ and 'data.frame':\t250 obs. of  3 variables:\n",
      " $ FID                 : int  0 0 0 0 0 0 0 0 0 0 ...\n",
      " $ IID                 : chr  \"HM001\" \"HM002\" \"HM003\" \"HM004\" ...\n",
      " $ StantonFloweringDate: num  -6.29 -3.29 2.08 1.58 2.28 2.33 2.39 2.45 -4.67 0.08 ...\n",
      " - attr(*, \".internal.selfref\")=<externalptr> \n",
      "NULL\n"
     ]
    },
    {
     "name": "stderr",
     "output_type": "stream",
     "text": [
      "`stat_bin()` using `bins = 30`. Pick better value with `binwidth`.\n"
     ]
    },
    {
     "name": "stdout",
     "output_type": "stream",
     "text": [
      "[1] \"VRN_FT1\"\n",
      "Classes ‘data.table’ and 'data.frame':\t110 obs. of  3 variables:\n",
      " $ FID    : int  0 0 0 0 0 0 0 0 0 0 ...\n",
      " $ IID    : chr  \"HM002\" \"HM003\" \"HM005\" \"HM006\" ...\n",
      " $ VRN_FT1: num  -1.34 -0.66 -2.32 -4.45 -3.15 ...\n",
      " - attr(*, \".internal.selfref\")=<externalptr> \n",
      "NULL\n"
     ]
    },
    {
     "name": "stderr",
     "output_type": "stream",
     "text": [
      "`stat_bin()` using `bins = 30`. Pick better value with `binwidth`.\n"
     ]
    }
   ],
   "source": [
    "for (file_ in trait_files) {\n",
    "    \n",
    "    tmp <- fread(sprintf(\"%s/Traits/%s\", home_, file_))\n",
    "    \n",
    "    # skipping the FID and IID columns, plot the distribution of traits  \n",
    "    for (trait_ in colnames(tmp)[-c(1,2)]) {\n",
    "        \n",
    "        print(trait_)\n",
    "        print(str(tmp))\n",
    "        g1 <- qplot(x= trait_, y = tmp[[trait_]], data = tmp,\n",
    "                    geom = \"boxplot\", color = \"steelblue\") + ggtitle(trait_) + theme_minimal()\n",
    "        g2 <- qplot(tmp[[trait_]], geom = \"histogram\", \n",
    "                    color = \"steelblue\", fill = \"steelblue\", alpha = 0.5) + theme_minimal()              \n",
    "        g3 <- qplot(tmp[[trait_]], geom = \"density\", \n",
    "                    color = \"steelblue\", fill = \"steelblue\", alpha = 0.5) + theme_minimal()\n",
    "        \n",
    "        g <- arrangeGrob(g1, g2, g3, ncol = 2, layout_matrix = cbind(c(1, 1), c(2, 3)))        \n",
    "        ggsave(file = sprintf(\"%s/Results/Visualisations/%s_%s.png\",\n",
    "                              home_, \n",
    "                              strsplit(file_, \"\\\\.\")[[1]][1],\n",
    "                              trait_),\n",
    "               plot = g,\n",
    "               width = 800, height = 600, units = c(\"mm\"))\n",
    "    }\n",
    "}"
   ]
  },
  {
   "cell_type": "markdown",
   "metadata": {},
   "source": [
    "## GWAS Pipeline  \n",
    "\n",
    "Because we have a different number of accessions in each trait file, we will have to run this pipeline separately for each trait. For each trait then, we will run the following:  \n",
    "\n",
    "  - for each chromosome:  \n",
    "    - perform QC  \n",
    "    - estimate population structure  \n",
    "    - perform association study  \n",
    "    \n",
    "A plot of the population structure for each chromosome will be saved in Results/Visualisations. The results of the association study will be saved in Results. A final manhattan plot will be saved in Results/Visualisations, as well as visualised here.  "
   ]
  },
  {
   "cell_type": "code",
   "execution_count": null,
   "metadata": {
    "collapsed": false
   },
   "outputs": [],
   "source": [
    "setwd(sprintf(\"%s/ScratchSpace\", home_))\n",
    "\n",
    "for (trait_ in trait_files) {\n",
    "    \n",
    "    cat(sprintf(\"\n",
    "\n",
    "    #\n",
    "    # Trait: %s\n",
    "    #\n",
    "\n",
    "    \", trait_))\n",
    "    \n",
    "    pheno_file <- sprintf(\"%s/Traits/%s\", home_, trait_)\n",
    "    lcl_trait <- strsplit(trait_, \"\\\\.\")[[1]][1]\n",
    "    \n",
    "    for (geno_ in genotype_files) {\n",
    "        \n",
    "        chromosome <- strsplit(geno_, \"-\")[[1]][1]\n",
    "        assoc_results <- sprintf(\"%s/Results/%s_%s\", home_, chromosome, lcl_trait)\n",
    "        \n",
    "        # QC steps\n",
    "        cat(sprintf(\"\n",
    "            Performing QC steps on genotype file: %s\n",
    "        \", geno_))\n",
    "        \n",
    "        geno_file <- sprintf(\"%s/Genotypes/%s\", home_, geno_)\n",
    "        cmd <- sprintf(\"\n",
    "\n",
    "        %s --bcf %s \\\\\n",
    "              --const-fid \\\\\n",
    "              --allow-extra-chr \\\\\n",
    "              --keep %s \\\\\n",
    "              --geno %s \\\\\n",
    "              --maf %s \\\\\n",
    "              --make-bed \\\\\n",
    "              --out qc_genotypes\n",
    "\n",
    "        \", plink_, geno_file, pheno_file, parameters$call_rate, parameters$maf\n",
    "        )\n",
    "        \n",
    "        write(cmd, file = \"plink.cmd\")\n",
    "        system(\"bash plink.cmd\")\n",
    "        \n",
    "        # population structure\n",
    "        cat(\"Estimating population structure...\")\n",
    "        cmd <- sprintf(\"%s --bfile %s --pca 5 --out population_structure\", plink_, \"qc_genotypes\")\n",
    "        system(cmd)\n",
    "    \n",
    "        # Association test\n",
    "        cat(\"Performing association test...\")\n",
    "        cmd <- sprintf(\"\n",
    "\n",
    "        %s --bfile %s \\\\\n",
    "                    --assoc \\\\\n",
    "                    --pheno %s \\\\\n",
    "                    --covar %s \\\\\n",
    "                    --covar-name V3, V4, V5, V6, V7 \\\\\n",
    "                    --allow-no-sex \\\\\n",
    "                    --out %s\n",
    "        \", plink_, \"qc_genotypes\", pheno_file, \"population_structure.eigenvec\", assoc_results)\n",
    "        system(cmd)\n",
    "        \n",
    "    }\n",
    "}"
   ]
  },
  {
   "cell_type": "code",
   "execution_count": null,
   "metadata": {
    "collapsed": true
   },
   "outputs": [],
   "source": []
  }
 ],
 "metadata": {
  "kernelspec": {
   "display_name": "R",
   "language": "R",
   "name": "ir"
  },
  "language_info": {
   "codemirror_mode": "r",
   "file_extension": ".r",
   "mimetype": "text/x-r-source",
   "name": "R",
   "pygments_lexer": "r",
   "version": "3.2.2"
  }
 },
 "nbformat": 4,
 "nbformat_minor": 0
}
